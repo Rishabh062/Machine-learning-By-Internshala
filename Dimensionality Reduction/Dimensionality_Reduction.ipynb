{
  "nbformat": 4,
  "nbformat_minor": 0,
  "metadata": {
    "colab": {
      "name": "Dimensionality-Reduction.ipynb",
      "provenance": []
    },
    "kernelspec": {
      "name": "python3",
      "display_name": "Python 3"
    },
    "language_info": {
      "name": "python"
    }
  },
  "cells": [
    {
      "cell_type": "markdown",
      "metadata": {
        "id": "9xkqm474Tb3B"
      },
      "source": [
        "## Dimensionality Reduction\n",
        "\n",
        "**It is the process to reduce the number of variable from the data to ensure that the reduced data conveys maximum information.**\n",
        "\n",
        "*It is done with the help of feature selection, it consist 5 methods*\n",
        "\n",
        "**First: simple methods**\n",
        "> Missing value ratio.\n",
        "\n",
        ">Low variance\n",
        "\n",
        "> High Corelation\n",
        "\n",
        "**Second: Advance methods**\n",
        ">Backwards feature selection.\n",
        "\n",
        ">Forward feature selection"
      ]
    },
    {
      "cell_type": "code",
      "metadata": {
        "id": "SPyy5K92S-4x"
      },
      "source": [
        "import pandas as pd\n",
        "import numpy as np\n",
        "import matplotlib.pyplot as plt"
      ],
      "execution_count": null,
      "outputs": []
    },
    {
      "cell_type": "markdown",
      "metadata": {
        "id": "LV8XmIAHUcww"
      },
      "source": [
        "### Missing Value Ratio"
      ]
    },
    {
      "cell_type": "code",
      "metadata": {
        "colab": {
          "base_uri": "https://localhost:8080/",
          "height": 326
        },
        "id": "e_HOlkA_TQ4M",
        "outputId": "ac9789bd-e3d4-4504-8196-7f873058c9f8"
      },
      "source": [
        "data = pd.read_csv(\"/content/NaN_Housing_Prices.csv\")\n",
        "data.head()"
      ],
      "execution_count": null,
      "outputs": [
        {
          "output_type": "execute_result",
          "data": {
            "text/html": [
              "<div>\n",
              "<style scoped>\n",
              "    .dataframe tbody tr th:only-of-type {\n",
              "        vertical-align: middle;\n",
              "    }\n",
              "\n",
              "    .dataframe tbody tr th {\n",
              "        vertical-align: top;\n",
              "    }\n",
              "\n",
              "    .dataframe thead th {\n",
              "        text-align: right;\n",
              "    }\n",
              "</style>\n",
              "<table border=\"1\" class=\"dataframe\">\n",
              "  <thead>\n",
              "    <tr style=\"text-align: right;\">\n",
              "      <th></th>\n",
              "      <th>Sale_Price</th>\n",
              "      <th>No of Bedrooms</th>\n",
              "      <th>No of Bathrooms</th>\n",
              "      <th>Flat Area (in Sqft)</th>\n",
              "      <th>Lot Area (in Sqft)</th>\n",
              "      <th>No of Floors</th>\n",
              "      <th>No of Times Visited</th>\n",
              "      <th>Overall Grade</th>\n",
              "      <th>Area of the House from Basement (in Sqft)</th>\n",
              "      <th>Basement Area (in Sqft)</th>\n",
              "      <th>Age of House (in Years)</th>\n",
              "      <th>Latitude</th>\n",
              "      <th>Longitude</th>\n",
              "      <th>Living Area after Renovation (in Sqft)</th>\n",
              "      <th>Lot Area after Renovation (in Sqft)</th>\n",
              "      <th>Years Since Renovation</th>\n",
              "      <th>Condition_of_the_House_Excellent</th>\n",
              "      <th>Condition_of_the_House_Fair</th>\n",
              "      <th>Condition_of_the_House_Good</th>\n",
              "      <th>Condition_of_the_House_Okay</th>\n",
              "      <th>Ever_Renovated_Yes</th>\n",
              "      <th>Waterfront_View_Yes</th>\n",
              "      <th>Zipcode_Group_Zipcode_Group_1</th>\n",
              "      <th>Zipcode_Group_Zipcode_Group_2</th>\n",
              "      <th>Zipcode_Group_Zipcode_Group_3</th>\n",
              "      <th>Zipcode_Group_Zipcode_Group_4</th>\n",
              "      <th>Zipcode_Group_Zipcode_Group_5</th>\n",
              "      <th>Zipcode_Group_Zipcode_Group_6</th>\n",
              "      <th>Zipcode_Group_Zipcode_Group_7</th>\n",
              "      <th>Zipcode_Group_Zipcode_Group_8</th>\n",
              "      <th>Zipcode_Group_Zipcode_Group_9</th>\n",
              "    </tr>\n",
              "  </thead>\n",
              "  <tbody>\n",
              "    <tr>\n",
              "      <th>0</th>\n",
              "      <td>221900.0</td>\n",
              "      <td>3</td>\n",
              "      <td>1.00</td>\n",
              "      <td>1180.0</td>\n",
              "      <td>5650.0</td>\n",
              "      <td>1.0</td>\n",
              "      <td>NaN</td>\n",
              "      <td>7</td>\n",
              "      <td>1180.0</td>\n",
              "      <td>NaN</td>\n",
              "      <td>63</td>\n",
              "      <td>47.5112</td>\n",
              "      <td>-122.257</td>\n",
              "      <td>1340.0</td>\n",
              "      <td>5650</td>\n",
              "      <td>NaN</td>\n",
              "      <td>0</td>\n",
              "      <td>1</td>\n",
              "      <td>0</td>\n",
              "      <td>0</td>\n",
              "      <td>0</td>\n",
              "      <td>0</td>\n",
              "      <td>0</td>\n",
              "      <td>0</td>\n",
              "      <td>0</td>\n",
              "      <td>0</td>\n",
              "      <td>0</td>\n",
              "      <td>0</td>\n",
              "      <td>0</td>\n",
              "      <td>0</td>\n",
              "      <td>0</td>\n",
              "    </tr>\n",
              "    <tr>\n",
              "      <th>1</th>\n",
              "      <td>538000.0</td>\n",
              "      <td>3</td>\n",
              "      <td>2.25</td>\n",
              "      <td>2570.0</td>\n",
              "      <td>7242.0</td>\n",
              "      <td>2.0</td>\n",
              "      <td>NaN</td>\n",
              "      <td>7</td>\n",
              "      <td>2170.0</td>\n",
              "      <td>400.0</td>\n",
              "      <td>67</td>\n",
              "      <td>47.7210</td>\n",
              "      <td>-122.319</td>\n",
              "      <td>1690.0</td>\n",
              "      <td>7639</td>\n",
              "      <td>26.0</td>\n",
              "      <td>0</td>\n",
              "      <td>1</td>\n",
              "      <td>0</td>\n",
              "      <td>0</td>\n",
              "      <td>1</td>\n",
              "      <td>0</td>\n",
              "      <td>0</td>\n",
              "      <td>1</td>\n",
              "      <td>0</td>\n",
              "      <td>0</td>\n",
              "      <td>0</td>\n",
              "      <td>0</td>\n",
              "      <td>0</td>\n",
              "      <td>0</td>\n",
              "      <td>0</td>\n",
              "    </tr>\n",
              "    <tr>\n",
              "      <th>2</th>\n",
              "      <td>180000.0</td>\n",
              "      <td>2</td>\n",
              "      <td>1.00</td>\n",
              "      <td>770.0</td>\n",
              "      <td>10000.0</td>\n",
              "      <td>1.0</td>\n",
              "      <td>NaN</td>\n",
              "      <td>6</td>\n",
              "      <td>770.0</td>\n",
              "      <td>NaN</td>\n",
              "      <td>85</td>\n",
              "      <td>47.7379</td>\n",
              "      <td>-122.233</td>\n",
              "      <td>2720.0</td>\n",
              "      <td>8062</td>\n",
              "      <td>NaN</td>\n",
              "      <td>0</td>\n",
              "      <td>1</td>\n",
              "      <td>0</td>\n",
              "      <td>0</td>\n",
              "      <td>0</td>\n",
              "      <td>0</td>\n",
              "      <td>0</td>\n",
              "      <td>1</td>\n",
              "      <td>0</td>\n",
              "      <td>0</td>\n",
              "      <td>0</td>\n",
              "      <td>0</td>\n",
              "      <td>0</td>\n",
              "      <td>0</td>\n",
              "      <td>0</td>\n",
              "    </tr>\n",
              "    <tr>\n",
              "      <th>3</th>\n",
              "      <td>604000.0</td>\n",
              "      <td>4</td>\n",
              "      <td>3.00</td>\n",
              "      <td>1960.0</td>\n",
              "      <td>5000.0</td>\n",
              "      <td>1.0</td>\n",
              "      <td>NaN</td>\n",
              "      <td>7</td>\n",
              "      <td>1050.0</td>\n",
              "      <td>910.0</td>\n",
              "      <td>53</td>\n",
              "      <td>47.5208</td>\n",
              "      <td>-122.393</td>\n",
              "      <td>1360.0</td>\n",
              "      <td>5000</td>\n",
              "      <td>NaN</td>\n",
              "      <td>1</td>\n",
              "      <td>0</td>\n",
              "      <td>0</td>\n",
              "      <td>0</td>\n",
              "      <td>0</td>\n",
              "      <td>0</td>\n",
              "      <td>0</td>\n",
              "      <td>0</td>\n",
              "      <td>1</td>\n",
              "      <td>0</td>\n",
              "      <td>0</td>\n",
              "      <td>0</td>\n",
              "      <td>0</td>\n",
              "      <td>0</td>\n",
              "      <td>0</td>\n",
              "    </tr>\n",
              "    <tr>\n",
              "      <th>4</th>\n",
              "      <td>510000.0</td>\n",
              "      <td>3</td>\n",
              "      <td>2.00</td>\n",
              "      <td>1680.0</td>\n",
              "      <td>8080.0</td>\n",
              "      <td>1.0</td>\n",
              "      <td>NaN</td>\n",
              "      <td>8</td>\n",
              "      <td>1680.0</td>\n",
              "      <td>NaN</td>\n",
              "      <td>31</td>\n",
              "      <td>47.6168</td>\n",
              "      <td>-122.045</td>\n",
              "      <td>1800.0</td>\n",
              "      <td>7503</td>\n",
              "      <td>NaN</td>\n",
              "      <td>0</td>\n",
              "      <td>1</td>\n",
              "      <td>0</td>\n",
              "      <td>0</td>\n",
              "      <td>0</td>\n",
              "      <td>0</td>\n",
              "      <td>0</td>\n",
              "      <td>0</td>\n",
              "      <td>0</td>\n",
              "      <td>1</td>\n",
              "      <td>0</td>\n",
              "      <td>0</td>\n",
              "      <td>0</td>\n",
              "      <td>0</td>\n",
              "      <td>0</td>\n",
              "    </tr>\n",
              "  </tbody>\n",
              "</table>\n",
              "</div>"
            ],
            "text/plain": [
              "   Sale_Price  ...  Zipcode_Group_Zipcode_Group_9\n",
              "0    221900.0  ...                              0\n",
              "1    538000.0  ...                              0\n",
              "2    180000.0  ...                              0\n",
              "3    604000.0  ...                              0\n",
              "4    510000.0  ...                              0\n",
              "\n",
              "[5 rows x 31 columns]"
            ]
          },
          "metadata": {
            "tags": []
          },
          "execution_count": 2
        }
      ]
    },
    {
      "cell_type": "markdown",
      "metadata": {
        "id": "DsmOit1dUoM6"
      },
      "source": [
        "Data contains NAN value, therefore we need to remove it with the help of threshold value.\n",
        "\n",
        "**Threshold missing value ratio=0.70**\n",
        "\n",
        "If ratio is <= 0.70, then : *the variable can be estimated*\n",
        "\n",
        "If ratio is >0.70 ,then: *the variable will be dropped*\n",
        "\n",
        "Chossing a threshold ratio depends upon various factor.\n",
        "\n",
        "* Nature of the problem\n",
        "*The size of dataset \n",
        "* Personal preference etc. \n"
      ]
    },
    {
      "cell_type": "code",
      "metadata": {
        "colab": {
          "base_uri": "https://localhost:8080/"
        },
        "id": "Q5GSyqaOUlTv",
        "outputId": "203f138d-f3f5-4cf8-b2ef-334af31cf741"
      },
      "source": [
        "data.isnull().sum()"
      ],
      "execution_count": null,
      "outputs": [
        {
          "output_type": "execute_result",
          "data": {
            "text/plain": [
              "Sale_Price                                       0\n",
              "No of Bedrooms                                   0\n",
              "No of Bathrooms                                  0\n",
              "Flat Area (in Sqft)                              0\n",
              "Lot Area (in Sqft)                               0\n",
              "No of Floors                                     0\n",
              "No of Times Visited                          19485\n",
              "Overall Grade                                    0\n",
              "Area of the House from Basement (in Sqft)        0\n",
              "Basement Area (in Sqft)                      13123\n",
              "Age of House (in Years)                          0\n",
              "Latitude                                         0\n",
              "Longitude                                        0\n",
              "Living Area after Renovation (in Sqft)           0\n",
              "Lot Area after Renovation (in Sqft)              0\n",
              "Years Since Renovation                       20695\n",
              "Condition_of_the_House_Excellent                 0\n",
              "Condition_of_the_House_Fair                      0\n",
              "Condition_of_the_House_Good                      0\n",
              "Condition_of_the_House_Okay                      0\n",
              "Ever_Renovated_Yes                               0\n",
              "Waterfront_View_Yes                              0\n",
              "Zipcode_Group_Zipcode_Group_1                    0\n",
              "Zipcode_Group_Zipcode_Group_2                    0\n",
              "Zipcode_Group_Zipcode_Group_3                    0\n",
              "Zipcode_Group_Zipcode_Group_4                    0\n",
              "Zipcode_Group_Zipcode_Group_5                    0\n",
              "Zipcode_Group_Zipcode_Group_6                    0\n",
              "Zipcode_Group_Zipcode_Group_7                    0\n",
              "Zipcode_Group_Zipcode_Group_8                    0\n",
              "Zipcode_Group_Zipcode_Group_9                    0\n",
              "dtype: int64"
            ]
          },
          "metadata": {
            "tags": []
          },
          "execution_count": 3
        }
      ]
    },
    {
      "cell_type": "markdown",
      "metadata": {
        "id": "phhug0EvV8eR"
      },
      "source": [
        "This 3 column contains missing values. Let's automate this task and remove them"
      ]
    },
    {
      "cell_type": "code",
      "metadata": {
        "colab": {
          "base_uri": "https://localhost:8080/"
        },
        "id": "mLjxWaCDV6e_",
        "outputId": "15ffb5c7-31bc-450a-9059-a2c6c9b04a94"
      },
      "source": [
        "for i in data.columns:\n",
        "  tmp=data[i].isnull().sum()/len(data)\n",
        "  if(tmp>0.70):\n",
        "    print(\"Removing Column\"+i+\"with missing value ratio\",tmp)\n",
        "    data.drop(columns= [i])"
      ],
      "execution_count": null,
      "outputs": [
        {
          "output_type": "stream",
          "text": [
            "Removing ColumnNo of Times Visitedwith missing value ratio 0.9017076218242399\n",
            "Removing ColumnYears Since Renovationwith missing value ratio 0.9577028090147623\n"
          ],
          "name": "stdout"
        }
      ]
    },
    {
      "cell_type": "markdown",
      "metadata": {
        "id": "irXZ-K-uW-Sy"
      },
      "source": [
        "## Low variance removal"
      ]
    },
    {
      "cell_type": "code",
      "metadata": {
        "colab": {
          "base_uri": "https://localhost:8080/",
          "height": 496
        },
        "id": "ZYpnK9s5WtKC",
        "outputId": "1e1801dd-bba9-4b34-cd07-713e93eb9c5a"
      },
      "source": [
        " data = pd.read_csv(\"/content/Raw_Housing_Prices3.csv\")\n",
        " data.head()"
      ],
      "execution_count": null,
      "outputs": [
        {
          "output_type": "execute_result",
          "data": {
            "text/html": [
              "<div>\n",
              "<style scoped>\n",
              "    .dataframe tbody tr th:only-of-type {\n",
              "        vertical-align: middle;\n",
              "    }\n",
              "\n",
              "    .dataframe tbody tr th {\n",
              "        vertical-align: top;\n",
              "    }\n",
              "\n",
              "    .dataframe thead th {\n",
              "        text-align: right;\n",
              "    }\n",
              "</style>\n",
              "<table border=\"1\" class=\"dataframe\">\n",
              "  <thead>\n",
              "    <tr style=\"text-align: right;\">\n",
              "      <th></th>\n",
              "      <th>ID</th>\n",
              "      <th>Date House was Sold</th>\n",
              "      <th>Sale Price</th>\n",
              "      <th>No of Bedrooms</th>\n",
              "      <th>No of Bathrooms</th>\n",
              "      <th>Flat Area (in Sqft)</th>\n",
              "      <th>Lot Area (in Sqft)</th>\n",
              "      <th>No of Floors</th>\n",
              "      <th>Waterfront View</th>\n",
              "      <th>No of Times Visited</th>\n",
              "      <th>Condition of the House</th>\n",
              "      <th>Overall Grade</th>\n",
              "      <th>Area of the House from Basement (in Sqft)</th>\n",
              "      <th>Basement Area (in Sqft)</th>\n",
              "      <th>Age of House (in Years)</th>\n",
              "      <th>Renovated Year</th>\n",
              "      <th>Zipcode</th>\n",
              "      <th>Latitude</th>\n",
              "      <th>Longitude</th>\n",
              "      <th>Living Area after Renovation (in Sqft)</th>\n",
              "      <th>Lot Area after Renovation (in Sqft)</th>\n",
              "    </tr>\n",
              "  </thead>\n",
              "  <tbody>\n",
              "    <tr>\n",
              "      <th>0</th>\n",
              "      <td>7129300520</td>\n",
              "      <td>14 October 2017</td>\n",
              "      <td>221900.0</td>\n",
              "      <td>3</td>\n",
              "      <td>1.00</td>\n",
              "      <td>1180.0</td>\n",
              "      <td>5650.0</td>\n",
              "      <td>1.0</td>\n",
              "      <td>No</td>\n",
              "      <td>None</td>\n",
              "      <td>Fair</td>\n",
              "      <td>7</td>\n",
              "      <td>1180.0</td>\n",
              "      <td>0</td>\n",
              "      <td>63</td>\n",
              "      <td>0</td>\n",
              "      <td>98178.0</td>\n",
              "      <td>47.5112</td>\n",
              "      <td>-122.257</td>\n",
              "      <td>1340.0</td>\n",
              "      <td>5650</td>\n",
              "    </tr>\n",
              "    <tr>\n",
              "      <th>1</th>\n",
              "      <td>6414100192</td>\n",
              "      <td>14 December 2017</td>\n",
              "      <td>538000.0</td>\n",
              "      <td>3</td>\n",
              "      <td>2.25</td>\n",
              "      <td>2570.0</td>\n",
              "      <td>7242.0</td>\n",
              "      <td>2.0</td>\n",
              "      <td>No</td>\n",
              "      <td>None</td>\n",
              "      <td>Fair</td>\n",
              "      <td>7</td>\n",
              "      <td>2170.0</td>\n",
              "      <td>400</td>\n",
              "      <td>67</td>\n",
              "      <td>1991</td>\n",
              "      <td>98125.0</td>\n",
              "      <td>47.7210</td>\n",
              "      <td>-122.319</td>\n",
              "      <td>1690.0</td>\n",
              "      <td>7639</td>\n",
              "    </tr>\n",
              "    <tr>\n",
              "      <th>2</th>\n",
              "      <td>5631500400</td>\n",
              "      <td>15 February 2016</td>\n",
              "      <td>180000.0</td>\n",
              "      <td>2</td>\n",
              "      <td>1.00</td>\n",
              "      <td>770.0</td>\n",
              "      <td>10000.0</td>\n",
              "      <td>1.0</td>\n",
              "      <td>No</td>\n",
              "      <td>None</td>\n",
              "      <td>Fair</td>\n",
              "      <td>6</td>\n",
              "      <td>770.0</td>\n",
              "      <td>0</td>\n",
              "      <td>85</td>\n",
              "      <td>0</td>\n",
              "      <td>98028.0</td>\n",
              "      <td>47.7379</td>\n",
              "      <td>-122.233</td>\n",
              "      <td>2720.0</td>\n",
              "      <td>8062</td>\n",
              "    </tr>\n",
              "    <tr>\n",
              "      <th>3</th>\n",
              "      <td>2487200875</td>\n",
              "      <td>14 December 2017</td>\n",
              "      <td>604000.0</td>\n",
              "      <td>4</td>\n",
              "      <td>3.00</td>\n",
              "      <td>1960.0</td>\n",
              "      <td>5000.0</td>\n",
              "      <td>1.0</td>\n",
              "      <td>No</td>\n",
              "      <td>None</td>\n",
              "      <td>Excellent</td>\n",
              "      <td>7</td>\n",
              "      <td>1050.0</td>\n",
              "      <td>910</td>\n",
              "      <td>53</td>\n",
              "      <td>0</td>\n",
              "      <td>98136.0</td>\n",
              "      <td>47.5208</td>\n",
              "      <td>-122.393</td>\n",
              "      <td>1360.0</td>\n",
              "      <td>5000</td>\n",
              "    </tr>\n",
              "    <tr>\n",
              "      <th>4</th>\n",
              "      <td>1954400510</td>\n",
              "      <td>15 February 2016</td>\n",
              "      <td>510000.0</td>\n",
              "      <td>3</td>\n",
              "      <td>2.00</td>\n",
              "      <td>1680.0</td>\n",
              "      <td>8080.0</td>\n",
              "      <td>1.0</td>\n",
              "      <td>No</td>\n",
              "      <td>None</td>\n",
              "      <td>Fair</td>\n",
              "      <td>8</td>\n",
              "      <td>1680.0</td>\n",
              "      <td>0</td>\n",
              "      <td>31</td>\n",
              "      <td>0</td>\n",
              "      <td>98074.0</td>\n",
              "      <td>47.6168</td>\n",
              "      <td>-122.045</td>\n",
              "      <td>1800.0</td>\n",
              "      <td>7503</td>\n",
              "    </tr>\n",
              "  </tbody>\n",
              "</table>\n",
              "</div>"
            ],
            "text/plain": [
              "           ID  ... Lot Area after Renovation (in Sqft)\n",
              "0  7129300520  ...                                5650\n",
              "1  6414100192  ...                                7639\n",
              "2  5631500400  ...                                8062\n",
              "3  2487200875  ...                                5000\n",
              "4  1954400510  ...                                7503\n",
              "\n",
              "[5 rows x 21 columns]"
            ]
          },
          "metadata": {
            "tags": []
          },
          "execution_count": 11
        }
      ]
    },
    {
      "cell_type": "code",
      "metadata": {
        "colab": {
          "base_uri": "https://localhost:8080/"
        },
        "id": "xiRwyR2oY5Xc",
        "outputId": "d19723d9-47d3-4b41-9da0-5f1251caa0ca"
      },
      "source": [
        "data.info()"
      ],
      "execution_count": null,
      "outputs": [
        {
          "output_type": "stream",
          "text": [
            "<class 'pandas.core.frame.DataFrame'>\n",
            "RangeIndex: 21609 entries, 0 to 21608\n",
            "Data columns (total 21 columns):\n",
            " #   Column                                     Non-Null Count  Dtype  \n",
            "---  ------                                     --------------  -----  \n",
            " 0   ID                                         21609 non-null  int64  \n",
            " 1   Date House was Sold                        21609 non-null  object \n",
            " 2   Sale Price                                 21609 non-null  float64\n",
            " 3   No of Bedrooms                             21609 non-null  int64  \n",
            " 4   No of Bathrooms                            21609 non-null  float64\n",
            " 5   Flat Area (in Sqft)                        21609 non-null  float64\n",
            " 6   Lot Area (in Sqft)                         21609 non-null  float64\n",
            " 7   No of Floors                               21609 non-null  float64\n",
            " 8   Waterfront View                            21609 non-null  object \n",
            " 9   No of Times Visited                        21609 non-null  object \n",
            " 10  Condition of the House                     21609 non-null  object \n",
            " 11  Overall Grade                              21609 non-null  int64  \n",
            " 12  Area of the House from Basement (in Sqft)  21609 non-null  float64\n",
            " 13  Basement Area (in Sqft)                    21609 non-null  int64  \n",
            " 14  Age of House (in Years)                    21609 non-null  int64  \n",
            " 15  Renovated Year                             21609 non-null  int64  \n",
            " 16  Zipcode                                    21609 non-null  float64\n",
            " 17  Latitude                                   21609 non-null  float64\n",
            " 18  Longitude                                  21609 non-null  float64\n",
            " 19  Living Area after Renovation (in Sqft)     21609 non-null  float64\n",
            " 20  Lot Area after Renovation (in Sqft)        21609 non-null  int64  \n",
            "dtypes: float64(10), int64(7), object(4)\n",
            "memory usage: 3.5+ MB\n"
          ],
          "name": "stdout"
        }
      ]
    },
    {
      "cell_type": "markdown",
      "metadata": {
        "id": "LoHCIIjCZPSY"
      },
      "source": [
        "Removing the categorical variables"
      ]
    },
    {
      "cell_type": "code",
      "metadata": {
        "colab": {
          "base_uri": "https://localhost:8080/"
        },
        "id": "W-l8PDdbY8fJ",
        "outputId": "99eeab5f-6268-45e5-c380-01e517cafb2e"
      },
      "source": [
        "numerical_data = data.drop(columns = ['ID','Date House was Sold','Sale Price',\n",
        "                                      'Waterfront View','No of Times Visited','Condition of the House',\n",
        "                                      'Overall Grade','Zipcode'])\n",
        "numerical_data.info()"
      ],
      "execution_count": null,
      "outputs": [
        {
          "output_type": "stream",
          "text": [
            "<class 'pandas.core.frame.DataFrame'>\n",
            "RangeIndex: 21609 entries, 0 to 21608\n",
            "Data columns (total 13 columns):\n",
            " #   Column                                     Non-Null Count  Dtype  \n",
            "---  ------                                     --------------  -----  \n",
            " 0   No of Bedrooms                             21609 non-null  int64  \n",
            " 1   No of Bathrooms                            21609 non-null  float64\n",
            " 2   Flat Area (in Sqft)                        21609 non-null  float64\n",
            " 3   Lot Area (in Sqft)                         21609 non-null  float64\n",
            " 4   No of Floors                               21609 non-null  float64\n",
            " 5   Area of the House from Basement (in Sqft)  21609 non-null  float64\n",
            " 6   Basement Area (in Sqft)                    21609 non-null  int64  \n",
            " 7   Age of House (in Years)                    21609 non-null  int64  \n",
            " 8   Renovated Year                             21609 non-null  int64  \n",
            " 9   Latitude                                   21609 non-null  float64\n",
            " 10  Longitude                                  21609 non-null  float64\n",
            " 11  Living Area after Renovation (in Sqft)     21609 non-null  float64\n",
            " 12  Lot Area after Renovation (in Sqft)        21609 non-null  int64  \n",
            "dtypes: float64(8), int64(5)\n",
            "memory usage: 2.1 MB\n"
          ],
          "name": "stdout"
        }
      ]
    },
    {
      "cell_type": "markdown",
      "metadata": {
        "id": "AEARnFhiaA6J"
      },
      "source": [
        "Normalizing data value. We can not Standard Scaler here because it will give value to be 1, hence it is not able to compare"
      ]
    },
    {
      "cell_type": "code",
      "metadata": {
        "colab": {
          "base_uri": "https://localhost:8080/",
          "height": 326
        },
        "id": "RGWNNpV4Z4hE",
        "outputId": "c2d45fdd-1285-431b-bc30-cf1c65af5e11"
      },
      "source": [
        "from sklearn.preprocessing import Normalizer\n",
        "norm = Normalizer()\n",
        "norm_data = norm.fit_transform(numerical_data)\n",
        "\n",
        "norm_data = pd.DataFrame(norm_data,columns = numerical_data.columns)\n",
        "norm_data.head()"
      ],
      "execution_count": null,
      "outputs": [
        {
          "output_type": "execute_result",
          "data": {
            "text/html": [
              "<div>\n",
              "<style scoped>\n",
              "    .dataframe tbody tr th:only-of-type {\n",
              "        vertical-align: middle;\n",
              "    }\n",
              "\n",
              "    .dataframe tbody tr th {\n",
              "        vertical-align: top;\n",
              "    }\n",
              "\n",
              "    .dataframe thead th {\n",
              "        text-align: right;\n",
              "    }\n",
              "</style>\n",
              "<table border=\"1\" class=\"dataframe\">\n",
              "  <thead>\n",
              "    <tr style=\"text-align: right;\">\n",
              "      <th></th>\n",
              "      <th>No of Bedrooms</th>\n",
              "      <th>No of Bathrooms</th>\n",
              "      <th>Flat Area (in Sqft)</th>\n",
              "      <th>Lot Area (in Sqft)</th>\n",
              "      <th>No of Floors</th>\n",
              "      <th>Area of the House from Basement (in Sqft)</th>\n",
              "      <th>Basement Area (in Sqft)</th>\n",
              "      <th>Age of House (in Years)</th>\n",
              "      <th>Renovated Year</th>\n",
              "      <th>Latitude</th>\n",
              "      <th>Longitude</th>\n",
              "      <th>Living Area after Renovation (in Sqft)</th>\n",
              "      <th>Lot Area after Renovation (in Sqft)</th>\n",
              "    </tr>\n",
              "  </thead>\n",
              "  <tbody>\n",
              "    <tr>\n",
              "      <th>0</th>\n",
              "      <td>0.000363</td>\n",
              "      <td>0.000121</td>\n",
              "      <td>0.142628</td>\n",
              "      <td>0.682924</td>\n",
              "      <td>0.000121</td>\n",
              "      <td>0.142628</td>\n",
              "      <td>0.000000</td>\n",
              "      <td>0.007615</td>\n",
              "      <td>0.000000</td>\n",
              "      <td>0.005743</td>\n",
              "      <td>-0.014777</td>\n",
              "      <td>0.161968</td>\n",
              "      <td>0.682924</td>\n",
              "    </tr>\n",
              "    <tr>\n",
              "      <th>1</th>\n",
              "      <td>0.000264</td>\n",
              "      <td>0.000198</td>\n",
              "      <td>0.226174</td>\n",
              "      <td>0.637335</td>\n",
              "      <td>0.000176</td>\n",
              "      <td>0.190972</td>\n",
              "      <td>0.035202</td>\n",
              "      <td>0.005896</td>\n",
              "      <td>0.175219</td>\n",
              "      <td>0.004200</td>\n",
              "      <td>-0.010765</td>\n",
              "      <td>0.148729</td>\n",
              "      <td>0.672273</td>\n",
              "    </tr>\n",
              "    <tr>\n",
              "      <th>2</th>\n",
              "      <td>0.000152</td>\n",
              "      <td>0.000076</td>\n",
              "      <td>0.058440</td>\n",
              "      <td>0.758961</td>\n",
              "      <td>0.000076</td>\n",
              "      <td>0.058440</td>\n",
              "      <td>0.000000</td>\n",
              "      <td>0.006451</td>\n",
              "      <td>0.000000</td>\n",
              "      <td>0.003623</td>\n",
              "      <td>-0.009277</td>\n",
              "      <td>0.206437</td>\n",
              "      <td>0.611874</td>\n",
              "    </tr>\n",
              "    <tr>\n",
              "      <th>3</th>\n",
              "      <td>0.000527</td>\n",
              "      <td>0.000395</td>\n",
              "      <td>0.258159</td>\n",
              "      <td>0.658569</td>\n",
              "      <td>0.000132</td>\n",
              "      <td>0.138299</td>\n",
              "      <td>0.119859</td>\n",
              "      <td>0.006981</td>\n",
              "      <td>0.000000</td>\n",
              "      <td>0.006259</td>\n",
              "      <td>-0.016121</td>\n",
              "      <td>0.179131</td>\n",
              "      <td>0.658569</td>\n",
              "    </tr>\n",
              "    <tr>\n",
              "      <th>4</th>\n",
              "      <td>0.000263</td>\n",
              "      <td>0.000175</td>\n",
              "      <td>0.147072</td>\n",
              "      <td>0.707346</td>\n",
              "      <td>0.000088</td>\n",
              "      <td>0.147072</td>\n",
              "      <td>0.000000</td>\n",
              "      <td>0.002714</td>\n",
              "      <td>0.000000</td>\n",
              "      <td>0.004169</td>\n",
              "      <td>-0.010684</td>\n",
              "      <td>0.157577</td>\n",
              "      <td>0.656834</td>\n",
              "    </tr>\n",
              "  </tbody>\n",
              "</table>\n",
              "</div>"
            ],
            "text/plain": [
              "   No of Bedrooms  ...  Lot Area after Renovation (in Sqft)\n",
              "0        0.000363  ...                             0.682924\n",
              "1        0.000264  ...                             0.672273\n",
              "2        0.000152  ...                             0.611874\n",
              "3        0.000527  ...                             0.658569\n",
              "4        0.000263  ...                             0.656834\n",
              "\n",
              "[5 rows x 13 columns]"
            ]
          },
          "metadata": {
            "tags": []
          },
          "execution_count": 14
        }
      ]
    },
    {
      "cell_type": "code",
      "metadata": {
        "colab": {
          "base_uri": "https://localhost:8080/"
        },
        "id": "SZGX0c2Mawsa",
        "outputId": "0345688f-7533-4a66-a5d7-bc1a6ee92766"
      },
      "source": [
        "tmp = norm_data.var()\n",
        "tmp"
      ],
      "execution_count": null,
      "outputs": [
        {
          "output_type": "execute_result",
          "data": {
            "text/plain": [
              "No of Bedrooms                               4.071117e-08\n",
              "No of Bathrooms                              2.802492e-08\n",
              "Flat Area (in Sqft)                          1.231500e-02\n",
              "Lot Area (in Sqft)                           1.351803e-02\n",
              "No of Floors                                 3.008524e-08\n",
              "Area of the House from Basement (in Sqft)    1.010140e-02\n",
              "Basement Area (in Sqft)                      1.648493e-03\n",
              "Age of House (in Years)                      2.002344e-05\n",
              "Renovated Year                               1.684740e-03\n",
              "Latitude                                     1.077875e-05\n",
              "Longitude                                    7.109191e-05\n",
              "Living Area after Renovation (in Sqft)       1.079222e-02\n",
              "Lot Area after Renovation (in Sqft)          1.250016e-02\n",
              "dtype: float64"
            ]
          },
          "metadata": {
            "tags": []
          },
          "execution_count": 15
        }
      ]
    },
    {
      "cell_type": "markdown",
      "metadata": {
        "id": "54wS_UD6ddCo"
      },
      "source": [
        "**Choosing a Variance Threshold is a close looking task. For sake of task let choose it as *1e-04 (approx)=0.0001* .**\n",
        "\n",
        "Removing data whose value is less than 1e-04"
      ]
    },
    {
      "cell_type": "code",
      "metadata": {
        "colab": {
          "base_uri": "https://localhost:8080/"
        },
        "id": "mPlQJ7iUdbDU",
        "outputId": "ea680cb9-a682-4cfb-ce5f-ac9950479853"
      },
      "source": [
        "T = 1e-04\n",
        "\n",
        "for i in tmp:\n",
        "  if i<T:\n",
        "    norm_data.drop(columns= [tmp[tmp==i].index[0]],inplace=True)\n",
        "\n",
        "norm_data.var()"
      ],
      "execution_count": null,
      "outputs": [
        {
          "output_type": "execute_result",
          "data": {
            "text/plain": [
              "Flat Area (in Sqft)                          0.012315\n",
              "Lot Area (in Sqft)                           0.013518\n",
              "Area of the House from Basement (in Sqft)    0.010101\n",
              "Basement Area (in Sqft)                      0.001648\n",
              "Renovated Year                               0.001685\n",
              "Living Area after Renovation (in Sqft)       0.010792\n",
              "Lot Area after Renovation (in Sqft)          0.012500\n",
              "dtype: float64"
            ]
          },
          "metadata": {
            "tags": []
          },
          "execution_count": 16
        }
      ]
    },
    {
      "cell_type": "markdown",
      "metadata": {
        "id": "E_mqq9ZneoOS"
      },
      "source": [
        "On chossing a wrong threshold value, some important information might be missed."
      ]
    },
    {
      "cell_type": "markdown",
      "metadata": {
        "id": "GONDqr20fEH1"
      },
      "source": [
        "## High correlation"
      ]
    },
    {
      "cell_type": "markdown",
      "metadata": {
        "id": "UQcm4RYKfH6n"
      },
      "source": [
        "**Elimanation of independent variables with high correlation** :\n",
        "\n",
        "On the basis of high correlation is not a reliable technique as it looks one to one correlation.\n",
        "\n",
        "Hence **VIF** is a reliable technique"
      ]
    },
    {
      "cell_type": "code",
      "metadata": {
        "id": "CTd4cp7weh4m"
      },
      "source": [
        ""
      ],
      "execution_count": null,
      "outputs": []
    }
  ]
}