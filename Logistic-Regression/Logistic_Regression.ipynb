{
  "nbformat": 4,
  "nbformat_minor": 0,
  "metadata": {
    "colab": {
      "name": "Logistic Regression.ipynb",
      "provenance": [],
      "collapsed_sections": []
    },
    "kernelspec": {
      "name": "python3",
      "display_name": "Python 3"
    },
    "language_info": {
      "name": "python"
    }
  },
  "cells": [
    {
      "cell_type": "markdown",
      "metadata": {
        "id": "ecU6SaXfPG_N"
      },
      "source": [
        "## Problem Statement\n",
        "\n",
        "### We have a data which contains detail about customer bank relationship.\n",
        "\n",
        "**Our object is to build a model and predict wheather the average balance of the customer will fall below the minimum balance in the consicutive month or not.**"
      ]
    },
    {
      "cell_type": "code",
      "metadata": {
        "id": "v75YRzpgLyJM"
      },
      "source": [
        "import numpy as np\n",
        "import pandas as pd\n",
        "import matplotlib.pyplot as plt\n",
        "import seaborn as sns"
      ],
      "execution_count": 1,
      "outputs": []
    },
    {
      "cell_type": "code",
      "metadata": {
        "colab": {
          "base_uri": "https://localhost:8080/",
          "height": 224
        },
        "id": "_jSSLdujMFps",
        "outputId": "5dc213dc-0e2e-40a8-988b-19904c742782"
      },
      "source": [
        "data = pd.read_csv(\"/content/churn_prediction_simple.csv\")\n",
        "data.head()"
      ],
      "execution_count": 2,
      "outputs": [
        {
          "output_type": "execute_result",
          "data": {
            "text/html": [
              "<div>\n",
              "<style scoped>\n",
              "    .dataframe tbody tr th:only-of-type {\n",
              "        vertical-align: middle;\n",
              "    }\n",
              "\n",
              "    .dataframe tbody tr th {\n",
              "        vertical-align: top;\n",
              "    }\n",
              "\n",
              "    .dataframe thead th {\n",
              "        text-align: right;\n",
              "    }\n",
              "</style>\n",
              "<table border=\"1\" class=\"dataframe\">\n",
              "  <thead>\n",
              "    <tr style=\"text-align: right;\">\n",
              "      <th></th>\n",
              "      <th>customer_id</th>\n",
              "      <th>vintage</th>\n",
              "      <th>age</th>\n",
              "      <th>gender</th>\n",
              "      <th>dependents</th>\n",
              "      <th>occupation</th>\n",
              "      <th>city</th>\n",
              "      <th>customer_nw_category</th>\n",
              "      <th>branch_code</th>\n",
              "      <th>days_since_last_transaction</th>\n",
              "      <th>current_balance</th>\n",
              "      <th>previous_month_end_balance</th>\n",
              "      <th>average_monthly_balance_prevQ</th>\n",
              "      <th>average_monthly_balance_prevQ2</th>\n",
              "      <th>current_month_credit</th>\n",
              "      <th>previous_month_credit</th>\n",
              "      <th>current_month_debit</th>\n",
              "      <th>previous_month_debit</th>\n",
              "      <th>current_month_balance</th>\n",
              "      <th>previous_month_balance</th>\n",
              "      <th>churn</th>\n",
              "    </tr>\n",
              "  </thead>\n",
              "  <tbody>\n",
              "    <tr>\n",
              "      <th>0</th>\n",
              "      <td>1</td>\n",
              "      <td>3135</td>\n",
              "      <td>66</td>\n",
              "      <td>0</td>\n",
              "      <td>0.0</td>\n",
              "      <td>0</td>\n",
              "      <td>187.0</td>\n",
              "      <td>2</td>\n",
              "      <td>755</td>\n",
              "      <td>224.0</td>\n",
              "      <td>1458.71</td>\n",
              "      <td>1458.71</td>\n",
              "      <td>1458.71</td>\n",
              "      <td>1449.07</td>\n",
              "      <td>0.20</td>\n",
              "      <td>0.20</td>\n",
              "      <td>0.20</td>\n",
              "      <td>0.20</td>\n",
              "      <td>1458.71</td>\n",
              "      <td>1458.71</td>\n",
              "      <td>0</td>\n",
              "    </tr>\n",
              "    <tr>\n",
              "      <th>1</th>\n",
              "      <td>6</td>\n",
              "      <td>2531</td>\n",
              "      <td>42</td>\n",
              "      <td>0</td>\n",
              "      <td>2.0</td>\n",
              "      <td>0</td>\n",
              "      <td>1494.0</td>\n",
              "      <td>3</td>\n",
              "      <td>388</td>\n",
              "      <td>58.0</td>\n",
              "      <td>927.72</td>\n",
              "      <td>1401.72</td>\n",
              "      <td>1643.31</td>\n",
              "      <td>1871.12</td>\n",
              "      <td>0.33</td>\n",
              "      <td>714.61</td>\n",
              "      <td>588.62</td>\n",
              "      <td>1538.06</td>\n",
              "      <td>1157.15</td>\n",
              "      <td>1677.16</td>\n",
              "      <td>1</td>\n",
              "    </tr>\n",
              "    <tr>\n",
              "      <th>2</th>\n",
              "      <td>7</td>\n",
              "      <td>263</td>\n",
              "      <td>42</td>\n",
              "      <td>1</td>\n",
              "      <td>0.0</td>\n",
              "      <td>0</td>\n",
              "      <td>1096.0</td>\n",
              "      <td>2</td>\n",
              "      <td>1666</td>\n",
              "      <td>60.0</td>\n",
              "      <td>15202.20</td>\n",
              "      <td>16059.34</td>\n",
              "      <td>15211.29</td>\n",
              "      <td>13798.82</td>\n",
              "      <td>0.36</td>\n",
              "      <td>0.36</td>\n",
              "      <td>857.50</td>\n",
              "      <td>286.07</td>\n",
              "      <td>15719.44</td>\n",
              "      <td>15349.75</td>\n",
              "      <td>0</td>\n",
              "    </tr>\n",
              "    <tr>\n",
              "      <th>3</th>\n",
              "      <td>8</td>\n",
              "      <td>5922</td>\n",
              "      <td>72</td>\n",
              "      <td>0</td>\n",
              "      <td>0.0</td>\n",
              "      <td>1</td>\n",
              "      <td>1020.0</td>\n",
              "      <td>1</td>\n",
              "      <td>1</td>\n",
              "      <td>98.0</td>\n",
              "      <td>7006.93</td>\n",
              "      <td>7714.19</td>\n",
              "      <td>7859.74</td>\n",
              "      <td>11232.37</td>\n",
              "      <td>0.64</td>\n",
              "      <td>0.64</td>\n",
              "      <td>1299.64</td>\n",
              "      <td>439.26</td>\n",
              "      <td>7076.06</td>\n",
              "      <td>7755.98</td>\n",
              "      <td>0</td>\n",
              "    </tr>\n",
              "    <tr>\n",
              "      <th>4</th>\n",
              "      <td>9</td>\n",
              "      <td>1145</td>\n",
              "      <td>46</td>\n",
              "      <td>0</td>\n",
              "      <td>0.0</td>\n",
              "      <td>0</td>\n",
              "      <td>623.0</td>\n",
              "      <td>2</td>\n",
              "      <td>317</td>\n",
              "      <td>172.0</td>\n",
              "      <td>10096.58</td>\n",
              "      <td>8519.53</td>\n",
              "      <td>6511.82</td>\n",
              "      <td>16314.17</td>\n",
              "      <td>0.27</td>\n",
              "      <td>0.27</td>\n",
              "      <td>443.13</td>\n",
              "      <td>5688.44</td>\n",
              "      <td>8563.84</td>\n",
              "      <td>5317.04</td>\n",
              "      <td>0</td>\n",
              "    </tr>\n",
              "  </tbody>\n",
              "</table>\n",
              "</div>"
            ],
            "text/plain": [
              "   customer_id  vintage  ...  previous_month_balance  churn\n",
              "0            1     3135  ...                 1458.71      0\n",
              "1            6     2531  ...                 1677.16      1\n",
              "2            7      263  ...                15349.75      0\n",
              "3            8     5922  ...                 7755.98      0\n",
              "4            9     1145  ...                 5317.04      0\n",
              "\n",
              "[5 rows x 21 columns]"
            ]
          },
          "metadata": {
            "tags": []
          },
          "execution_count": 2
        }
      ]
    },
    {
      "cell_type": "code",
      "metadata": {
        "colab": {
          "base_uri": "https://localhost:8080/"
        },
        "id": "eCwEHmBdMlKj",
        "outputId": "96a4bf7e-9d49-45f5-8bff-ea303064db0c"
      },
      "source": [
        "data.info()\n",
        "\n",
        "# Column churn is the target variable"
      ],
      "execution_count": 3,
      "outputs": [
        {
          "output_type": "stream",
          "text": [
            "<class 'pandas.core.frame.DataFrame'>\n",
            "RangeIndex: 22067 entries, 0 to 22066\n",
            "Data columns (total 21 columns):\n",
            " #   Column                          Non-Null Count  Dtype  \n",
            "---  ------                          --------------  -----  \n",
            " 0   customer_id                     22067 non-null  int64  \n",
            " 1   vintage                         22067 non-null  int64  \n",
            " 2   age                             22067 non-null  int64  \n",
            " 3   gender                          22067 non-null  int64  \n",
            " 4   dependents                      22067 non-null  float64\n",
            " 5   occupation                      22067 non-null  int64  \n",
            " 6   city                            22067 non-null  float64\n",
            " 7   customer_nw_category            22067 non-null  int64  \n",
            " 8   branch_code                     22067 non-null  int64  \n",
            " 9   days_since_last_transaction     22067 non-null  float64\n",
            " 10  current_balance                 22067 non-null  float64\n",
            " 11  previous_month_end_balance      22067 non-null  float64\n",
            " 12  average_monthly_balance_prevQ   22067 non-null  float64\n",
            " 13  average_monthly_balance_prevQ2  22067 non-null  float64\n",
            " 14  current_month_credit            22067 non-null  float64\n",
            " 15  previous_month_credit           22067 non-null  float64\n",
            " 16  current_month_debit             22067 non-null  float64\n",
            " 17  previous_month_debit            22067 non-null  float64\n",
            " 18  current_month_balance           22067 non-null  float64\n",
            " 19  previous_month_balance          22067 non-null  float64\n",
            " 20  churn                           22067 non-null  int64  \n",
            "dtypes: float64(13), int64(8)\n",
            "memory usage: 3.5 MB\n"
          ],
          "name": "stdout"
        }
      ]
    },
    {
      "cell_type": "code",
      "metadata": {
        "colab": {
          "base_uri": "https://localhost:8080/"
        },
        "id": "ahIm4YiMOkMX",
        "outputId": "6e2a5165-4618-4a12-c5b5-d3308f7d3c49"
      },
      "source": [
        "# Checking the data set distribution\n",
        "data['churn'].value_counts()/len(data)"
      ],
      "execution_count": 4,
      "outputs": [
        {
          "output_type": "execute_result",
          "data": {
            "text/plain": [
              "0    0.806317\n",
              "1    0.193683\n",
              "Name: churn, dtype: float64"
            ]
          },
          "metadata": {
            "tags": []
          },
          "execution_count": 4
        }
      ]
    },
    {
      "cell_type": "markdown",
      "metadata": {
        "id": "VHrtGoQWRQKS"
      },
      "source": [
        "**It is a logistic regression model therefore it is divided into class-0 and class-1**\n",
        "\n",
        "Here class-0 is 80% and class-1 is 20% hence data is imbalance."
      ]
    },
    {
      "cell_type": "code",
      "metadata": {
        "id": "uTCosf7qROwe"
      },
      "source": [
        "X = data.drop(columns = [\"churn\",\"customer_id\"])\n",
        "Y = data[\"churn\"]"
      ],
      "execution_count": 5,
      "outputs": []
    },
    {
      "cell_type": "code",
      "metadata": {
        "id": "KyAZhGt4R3xN"
      },
      "source": [
        "# Scaling the data\n",
        "from sklearn.preprocessing import StandardScaler\n",
        "scaler = StandardScaler()\n",
        "scaler_X = scaler.fit_transform(X)\n"
      ],
      "execution_count": 6,
      "outputs": []
    },
    {
      "cell_type": "code",
      "metadata": {
        "colab": {
          "base_uri": "https://localhost:8080/"
        },
        "id": "yzomoNrFSaB3",
        "outputId": "fb0b2eb0-40c7-4336-f8e7-640fed902c76"
      },
      "source": [
        "# Spliting the dataset\n",
        "from sklearn.model_selection import train_test_split as tts\n",
        "X_train, X_test, Y_train, Y_test = tts(scaler_X,Y,train_size=0.80,stratify=Y)\n",
        "X_train.shape,X_test.shape,Y_train.shape,Y_test.shape"
      ],
      "execution_count": 7,
      "outputs": [
        {
          "output_type": "execute_result",
          "data": {
            "text/plain": [
              "((17653, 19), (4414, 19), (17653,), (4414,))"
            ]
          },
          "metadata": {
            "tags": []
          },
          "execution_count": 7
        }
      ]
    },
    {
      "cell_type": "markdown",
      "metadata": {
        "id": "cLOSEDgmW05a"
      },
      "source": [
        "If variable y is a binary categorical variable with values 0 and 1 and there are 25% of zeros and 75% of ones, **stratify=y** will make sure that your random split has 25% of 0's and 75% of 1's."
      ]
    },
    {
      "cell_type": "code",
      "metadata": {
        "id": "JZIASEK5a0wU"
      },
      "source": [
        "from sklearn.linear_model import LogisticRegression\n",
        "classifier = LogisticRegression(class_weight='balanced')"
      ],
      "execution_count": 8,
      "outputs": []
    },
    {
      "cell_type": "markdown",
      "metadata": {
        "id": "qW-KAaGucCfO"
      },
      "source": [
        "**class_weight='balanced' :** Balanced weight will add a multiplier to the minority class 1, hence error can not be negleted for minority class. "
      ]
    },
    {
      "cell_type": "code",
      "metadata": {
        "id": "C04e_LXxcBYz"
      },
      "source": [
        "classifier.fit(X_train,Y_train)\n",
        "predicted_values = classifier.predict(X_test)  # predicted class\n",
        "predicted_probability  = classifier.predict_proba(X_test)  # predicted probability"
      ],
      "execution_count": 9,
      "outputs": []
    },
    {
      "cell_type": "code",
      "metadata": {
        "colab": {
          "base_uri": "https://localhost:8080/"
        },
        "id": "sFyMLjNqc5eG",
        "outputId": "f67d3813-5337-407f-9c35-78c4583749ed"
      },
      "source": [
        "predicted_values"
      ],
      "execution_count": 10,
      "outputs": [
        {
          "output_type": "execute_result",
          "data": {
            "text/plain": [
              "array([0, 1, 0, ..., 0, 1, 0])"
            ]
          },
          "metadata": {
            "tags": []
          },
          "execution_count": 10
        }
      ]
    },
    {
      "cell_type": "code",
      "metadata": {
        "colab": {
          "base_uri": "https://localhost:8080/"
        },
        "id": "VhtdVpZhdC4D",
        "outputId": "06c8317b-877f-4b81-8f26-8fe4ccaf889e"
      },
      "source": [
        "predicted_probability"
      ],
      "execution_count": 11,
      "outputs": [
        {
          "output_type": "execute_result",
          "data": {
            "text/plain": [
              "array([[0.66918291, 0.33081709],\n",
              "       [0.42884651, 0.57115349],\n",
              "       [0.59055515, 0.40944485],\n",
              "       ...,\n",
              "       [0.51008554, 0.48991446],\n",
              "       [0.49273894, 0.50726106],\n",
              "       [0.51042923, 0.48957077]])"
            ]
          },
          "metadata": {
            "tags": []
          },
          "execution_count": 11
        }
      ]
    },
    {
      "cell_type": "markdown",
      "metadata": {
        "id": "i__qsYwKdGFz"
      },
      "source": [
        "Here first columns represent the probability with class 0 and second column with class 1."
      ]
    },
    {
      "cell_type": "code",
      "metadata": {
        "id": "meFAL2uLdFK9",
        "colab": {
          "base_uri": "https://localhost:8080/"
        },
        "outputId": "7f0106e2-f3a4-4499-e41f-f1567b836889"
      },
      "source": [
        "from sklearn.metrics import confusion_matrix\n",
        "cf=confusion_matrix(Y_test,predicted_values)\n",
        "cf"
      ],
      "execution_count": 12,
      "outputs": [
        {
          "output_type": "execute_result",
          "data": {
            "text/plain": [
              "array([[2642,  917],\n",
              "       [ 303,  552]])"
            ]
          },
          "metadata": {
            "tags": []
          },
          "execution_count": 12
        }
      ]
    },
    {
      "cell_type": "markdown",
      "metadata": {
        "id": "PqfAOiXKBnvy"
      },
      "source": [
        "### Evaluation Metrics"
      ]
    },
    {
      "cell_type": "code",
      "metadata": {
        "colab": {
          "base_uri": "https://localhost:8080/"
        },
        "id": "Vien3jXJACh6",
        "outputId": "7d0f0b62-a73f-4a0b-b7c4-dc54f69a3f47"
      },
      "source": [
        "# Accuracy\n",
        "classifier.score(X_test,Y_test)"
      ],
      "execution_count": 13,
      "outputs": [
        {
          "output_type": "execute_result",
          "data": {
            "text/plain": [
              "0.7236067059356592"
            ]
          },
          "metadata": {
            "tags": []
          },
          "execution_count": 13
        }
      ]
    },
    {
      "cell_type": "markdown",
      "metadata": {
        "id": "QzNuN_6kCAdk"
      },
      "source": [
        "It is showing a good accuracy, but data is imbalance therefore we must check precision and recall"
      ]
    },
    {
      "cell_type": "code",
      "metadata": {
        "colab": {
          "base_uri": "https://localhost:8080/"
        },
        "id": "0NjdzDxqB6OO",
        "outputId": "6c22bf91-b14d-4cc7-f305-a325ff77d270"
      },
      "source": [
        "# Precision\n",
        "from sklearn.metrics import precision_score as ps\n",
        "Precision = ps(Y_test,predicted_values)\n",
        "Precision"
      ],
      "execution_count": 14,
      "outputs": [
        {
          "output_type": "execute_result",
          "data": {
            "text/plain": [
              "0.37576582709326073"
            ]
          },
          "metadata": {
            "tags": []
          },
          "execution_count": 14
        }
      ]
    },
    {
      "cell_type": "markdown",
      "metadata": {
        "id": "1Cj-JkftC1Ct"
      },
      "source": [
        "Conclusion: approx 38% of result are predicted false positive(FP)"
      ]
    },
    {
      "cell_type": "code",
      "metadata": {
        "colab": {
          "base_uri": "https://localhost:8080/"
        },
        "id": "__sugqtzCvqX",
        "outputId": "792e9765-083f-4f6f-ea4c-bc3cac48ea6e"
      },
      "source": [
        "# Recall\n",
        "from sklearn.metrics import recall_score\n",
        "Recall = recall_score(Y_test,predicted_values)\n",
        "Recall"
      ],
      "execution_count": 15,
      "outputs": [
        {
          "output_type": "execute_result",
          "data": {
            "text/plain": [
              "0.6456140350877193"
            ]
          },
          "metadata": {
            "tags": []
          },
          "execution_count": 15
        }
      ]
    },
    {
      "cell_type": "markdown",
      "metadata": {
        "id": "Qg2ntP4qEGvS"
      },
      "source": [
        "Conclusion: Out of overall positive person only 64% have been predict positive."
      ]
    },
    {
      "cell_type": "markdown",
      "metadata": {
        "id": "_wLuUzDnEbVe"
      },
      "source": [
        "**If we are not sure about what to choose, then we must look for the F1 score.**\n"
      ]
    },
    {
      "cell_type": "code",
      "metadata": {
        "colab": {
          "base_uri": "https://localhost:8080/"
        },
        "id": "5dWMNz6kEFhc",
        "outputId": "5eda0f15-cf1a-4652-d63c-fe6b09d17382"
      },
      "source": [
        "f1 = 2/((1/Precision)+(1/Recall))\n",
        "f1"
      ],
      "execution_count": 16,
      "outputs": [
        {
          "output_type": "execute_result",
          "data": {
            "text/plain": [
              "0.47504302925989667"
            ]
          },
          "metadata": {
            "tags": []
          },
          "execution_count": 16
        }
      ]
    },
    {
      "cell_type": "code",
      "metadata": {
        "colab": {
          "base_uri": "https://localhost:8080/"
        },
        "id": "DvD4MVmMFCFM",
        "outputId": "68c01acc-5394-47bd-b46a-2146ae1f64b4"
      },
      "source": [
        "from sklearn.metrics import f1_score\n",
        "F1 = f1_score(Y_test,predicted_values)\n",
        "F1"
      ],
      "execution_count": 17,
      "outputs": [
        {
          "output_type": "execute_result",
          "data": {
            "text/plain": [
              "0.4750430292598968"
            ]
          },
          "metadata": {
            "tags": []
          },
          "execution_count": 17
        }
      ]
    },
    {
      "cell_type": "markdown",
      "metadata": {
        "id": "7cvLWYITFasU"
      },
      "source": [
        "**Calculating precision, recall , f1-score and support at once**\n",
        "\n",
        "Support: It is nothing but the number of instances for the class 1 and class 0."
      ]
    },
    {
      "cell_type": "code",
      "metadata": {
        "id": "POYPlflwFM2C"
      },
      "source": [
        "from sklearn.metrics import precision_recall_fscore_support as PRF_summary\n",
        "precision,recall,f1,support = PRF_summary(Y_test,predicted_values)"
      ],
      "execution_count": 18,
      "outputs": []
    },
    {
      "cell_type": "code",
      "metadata": {
        "colab": {
          "base_uri": "https://localhost:8080/"
        },
        "id": "LGPg2qTPHI2G",
        "outputId": "1584d3c0-5846-47c3-d518-0934cf794bdd"
      },
      "source": [
        "precision"
      ],
      "execution_count": 19,
      "outputs": [
        {
          "output_type": "execute_result",
          "data": {
            "text/plain": [
              "array([0.89711375, 0.37576583])"
            ]
          },
          "metadata": {
            "tags": []
          },
          "execution_count": 19
        }
      ]
    },
    {
      "cell_type": "code",
      "metadata": {
        "colab": {
          "base_uri": "https://localhost:8080/"
        },
        "id": "5KxMGk2xHLFx",
        "outputId": "03fb6437-7995-48d2-b2a1-a8fc972eac1f"
      },
      "source": [
        "recall"
      ],
      "execution_count": 20,
      "outputs": [
        {
          "output_type": "execute_result",
          "data": {
            "text/plain": [
              "array([0.74234335, 0.64561404])"
            ]
          },
          "metadata": {
            "tags": []
          },
          "execution_count": 20
        }
      ]
    },
    {
      "cell_type": "code",
      "metadata": {
        "colab": {
          "base_uri": "https://localhost:8080/"
        },
        "id": "Q3PY0HBTHhDa",
        "outputId": "e02f00a3-4d59-4572-9d61-2a1a4749ae39"
      },
      "source": [
        "f1"
      ],
      "execution_count": 21,
      "outputs": [
        {
          "output_type": "execute_result",
          "data": {
            "text/plain": [
              "array([0.81242312, 0.47504303])"
            ]
          },
          "metadata": {
            "tags": []
          },
          "execution_count": 21
        }
      ]
    },
    {
      "cell_type": "code",
      "metadata": {
        "colab": {
          "base_uri": "https://localhost:8080/"
        },
        "id": "rpm03qNsHh2B",
        "outputId": "9bc4e1d2-fc30-423f-9b76-e22086689178"
      },
      "source": [
        "support"
      ],
      "execution_count": 22,
      "outputs": [
        {
          "output_type": "execute_result",
          "data": {
            "text/plain": [
              "array([3559,  855])"
            ]
          },
          "metadata": {
            "tags": []
          },
          "execution_count": 22
        }
      ]
    },
    {
      "cell_type": "markdown",
      "metadata": {
        "id": "VSd2TePjHlVt"
      },
      "source": [
        "It is showing 2 values because first one is of class:0 and second one is for class:1"
      ]
    },
    {
      "cell_type": "code",
      "metadata": {
        "colab": {
          "base_uri": "https://localhost:8080/"
        },
        "id": "_iYvyIEpHj7c",
        "outputId": "9dbfe7d8-24ba-41da-a94c-4f293e43676a"
      },
      "source": [
        "# Another method for the same\n",
        "\n",
        "from sklearn.metrics import classification_report\n",
        "k = classification_report(Y_test,predicted_values)\n",
        "print(k)"
      ],
      "execution_count": 23,
      "outputs": [
        {
          "output_type": "stream",
          "text": [
            "              precision    recall  f1-score   support\n",
            "\n",
            "           0       0.90      0.74      0.81      3559\n",
            "           1       0.38      0.65      0.48       855\n",
            "\n",
            "    accuracy                           0.72      4414\n",
            "   macro avg       0.64      0.69      0.64      4414\n",
            "weighted avg       0.80      0.72      0.75      4414\n",
            "\n"
          ],
          "name": "stdout"
        }
      ]
    },
    {
      "cell_type": "markdown",
      "metadata": {
        "id": "0tlkkwPXIPFS"
      },
      "source": [
        "Drawback: This function is meant for representation purpose only , we cannot use its value."
      ]
    },
    {
      "cell_type": "code",
      "metadata": {
        "colab": {
          "base_uri": "https://localhost:8080/"
        },
        "id": "ZcuVcvEpIGC5",
        "outputId": "4590329f-3764-4e8e-ad09-c72a9d695742"
      },
      "source": [
        "from sklearn.metrics import precision_recall_curve\n",
        "precision_points,recall_points,threshold_points = precision_recall_curve(Y_test,predicted_probability[:,1])\n",
        "precision_points.shape,recall_points.shape,threshold_points.shape"
      ],
      "execution_count": 24,
      "outputs": [
        {
          "output_type": "execute_result",
          "data": {
            "text/plain": [
              "((4415,), (4415,), (4414,))"
            ]
          },
          "metadata": {
            "tags": []
          },
          "execution_count": 24
        }
      ]
    },
    {
      "cell_type": "markdown",
      "metadata": {
        "id": "LQX0ZDInJXWP"
      },
      "source": [
        "conclusion: As the threshold_points is one less hence we will neglect this and only consider first 2"
      ]
    },
    {
      "cell_type": "code",
      "metadata": {
        "colab": {
          "base_uri": "https://localhost:8080/",
          "height": 480
        },
        "id": "rj_ZuDwdJV2B",
        "outputId": "a7d80303-7075-4857-d21e-1d43c45ea595"
      },
      "source": [
        "plt.figure(figsize=(7,5),dpi=100)\n",
        "plt.plot(threshold_points,precision_points[:-1],color=\"green\",label='precision')\n",
        "plt.plot(threshold_points,recall_points[:-1],color=\"red\",label='recall')\n",
        "plt.xlabel('Threshold points')\n",
        "plt.ylabel(\"score\")\n",
        "plt.title(\"Precision-Recall tradeoff\")\n",
        "plt.legend()\n",
        "plt.show()"
      ],
      "execution_count": 25,
      "outputs": [
        {
          "output_type": "display_data",
          "data": {
            "image/png": "[encoded data removed]",
            "text/plain": [
              "<Figure size 700x500 with 1 Axes>"
            ]
          },
          "metadata": {
            "tags": [],
            "needs_background": "light"
          }
        }
      ]
    },
    {
      "cell_type": "markdown",
      "metadata": {
        "id": "hjxj41pdrQy7"
      },
      "source": [
        "## AUC-ROC Curve"
      ]
    },
    {
      "cell_type": "code",
      "metadata": {
        "id": "iqKUe8OgKJtQ"
      },
      "source": [
        "from sklearn.metrics import roc_curve , roc_auc_score\n",
        "fpr, tpr, threshold = roc_curve(Y_test,predicted_probability[:,1])"
      ],
      "execution_count": 26,
      "outputs": []
    },
    {
      "cell_type": "code",
      "metadata": {
        "colab": {
          "base_uri": "https://localhost:8080/",
          "height": 497
        },
        "id": "OneFywsFtGIu",
        "outputId": "7a40ac3e-6342-4a42-9824-b208cd4c80e1"
      },
      "source": [
        "plt.figure(figsize=(7,5),dpi=100)\n",
        "plt.plot(fpr,tpr,color=\"green\")\n",
        "plt.plot([0,1],[0,1],label='baseline',color='red')\n",
        "plt.xlabel(\"FPR\")\n",
        "plt.ylabel(\"TPR\")\n",
        "plt.title(\"AUC-ROC\")\n",
        "plt.legend()\n",
        "plt.show()\n",
        "roc_auc_score(Y_test,predicted_probability[:,1])  # area"
      ],
      "execution_count": 27,
      "outputs": [
        {
          "output_type": "display_data",
          "data": {
            "image/png": "[encoded data removed]",
            "text/plain": [
              "<Figure size 700x500 with 1 Axes>"
            ]
          },
          "metadata": {
            "tags": [],
            "needs_background": "light"
          }
        },
        {
          "output_type": "execute_result",
          "data": {
            "text/plain": [
              "0.7369620548514679"
            ]
          },
          "metadata": {
            "tags": []
          },
          "execution_count": 27
        }
      ]
    },
    {
      "cell_type": "markdown",
      "metadata": {
        "id": "HtyVe_U_t8TQ"
      },
      "source": [
        "### Coefficient Plot"
      ]
    },
    {
      "cell_type": "code",
      "metadata": {
        "colab": {
          "base_uri": "https://localhost:8080/",
          "height": 204
        },
        "id": "drZU7-ixtzMs",
        "outputId": "f294b8d9-f7a2-4993-be7a-da9233c62ec9"
      },
      "source": [
        "# arranging the data\n",
        "c= classifier.coef_.reshape(-1)\n",
        "x=X.columns\n",
        "\n",
        "coeff_plot = pd.DataFrame({'coefficient':c,'variable':x})\n",
        "coeff_plot.head()\n"
      ],
      "execution_count": 28,
      "outputs": [
        {
          "output_type": "execute_result",
          "data": {
            "text/html": [
              "<div>\n",
              "<style scoped>\n",
              "    .dataframe tbody tr th:only-of-type {\n",
              "        vertical-align: middle;\n",
              "    }\n",
              "\n",
              "    .dataframe tbody tr th {\n",
              "        vertical-align: top;\n",
              "    }\n",
              "\n",
              "    .dataframe thead th {\n",
              "        text-align: right;\n",
              "    }\n",
              "</style>\n",
              "<table border=\"1\" class=\"dataframe\">\n",
              "  <thead>\n",
              "    <tr style=\"text-align: right;\">\n",
              "      <th></th>\n",
              "      <th>coefficient</th>\n",
              "      <th>variable</th>\n",
              "    </tr>\n",
              "  </thead>\n",
              "  <tbody>\n",
              "    <tr>\n",
              "      <th>0</th>\n",
              "      <td>-0.189758</td>\n",
              "      <td>vintage</td>\n",
              "    </tr>\n",
              "    <tr>\n",
              "      <th>1</th>\n",
              "      <td>-0.086912</td>\n",
              "      <td>age</td>\n",
              "    </tr>\n",
              "    <tr>\n",
              "      <th>2</th>\n",
              "      <td>-0.055455</td>\n",
              "      <td>gender</td>\n",
              "    </tr>\n",
              "    <tr>\n",
              "      <th>3</th>\n",
              "      <td>0.039283</td>\n",
              "      <td>dependents</td>\n",
              "    </tr>\n",
              "    <tr>\n",
              "      <th>4</th>\n",
              "      <td>-0.098814</td>\n",
              "      <td>occupation</td>\n",
              "    </tr>\n",
              "  </tbody>\n",
              "</table>\n",
              "</div>"
            ],
            "text/plain": [
              "   coefficient    variable\n",
              "0    -0.189758     vintage\n",
              "1    -0.086912         age\n",
              "2    -0.055455      gender\n",
              "3     0.039283  dependents\n",
              "4    -0.098814  occupation"
            ]
          },
          "metadata": {
            "tags": []
          },
          "execution_count": 28
        }
      ]
    },
    {
      "cell_type": "code",
      "metadata": {
        "colab": {
          "base_uri": "https://localhost:8080/",
          "height": 204
        },
        "id": "SNGHUyktuoE_",
        "outputId": "7c399445-d57a-4891-9ac0-adf1e7e91be3"
      },
      "source": [
        "# sorting the values\n",
        "coeff_plot = coeff_plot.sort_values(by='coefficient')\n",
        "coeff_plot.head()"
      ],
      "execution_count": 29,
      "outputs": [
        {
          "output_type": "execute_result",
          "data": {
            "text/html": [
              "<div>\n",
              "<style scoped>\n",
              "    .dataframe tbody tr th:only-of-type {\n",
              "        vertical-align: middle;\n",
              "    }\n",
              "\n",
              "    .dataframe tbody tr th {\n",
              "        vertical-align: top;\n",
              "    }\n",
              "\n",
              "    .dataframe thead th {\n",
              "        text-align: right;\n",
              "    }\n",
              "</style>\n",
              "<table border=\"1\" class=\"dataframe\">\n",
              "  <thead>\n",
              "    <tr style=\"text-align: right;\">\n",
              "      <th></th>\n",
              "      <th>coefficient</th>\n",
              "      <th>variable</th>\n",
              "    </tr>\n",
              "  </thead>\n",
              "  <tbody>\n",
              "    <tr>\n",
              "      <th>9</th>\n",
              "      <td>-2.213768</td>\n",
              "      <td>current_balance</td>\n",
              "    </tr>\n",
              "    <tr>\n",
              "      <th>17</th>\n",
              "      <td>-0.591716</td>\n",
              "      <td>current_month_balance</td>\n",
              "    </tr>\n",
              "    <tr>\n",
              "      <th>10</th>\n",
              "      <td>-0.330055</td>\n",
              "      <td>previous_month_end_balance</td>\n",
              "    </tr>\n",
              "    <tr>\n",
              "      <th>12</th>\n",
              "      <td>-0.211044</td>\n",
              "      <td>average_monthly_balance_prevQ2</td>\n",
              "    </tr>\n",
              "    <tr>\n",
              "      <th>18</th>\n",
              "      <td>-0.204362</td>\n",
              "      <td>previous_month_balance</td>\n",
              "    </tr>\n",
              "  </tbody>\n",
              "</table>\n",
              "</div>"
            ],
            "text/plain": [
              "    coefficient                        variable\n",
              "9     -2.213768                 current_balance\n",
              "17    -0.591716           current_month_balance\n",
              "10    -0.330055      previous_month_end_balance\n",
              "12    -0.211044  average_monthly_balance_prevQ2\n",
              "18    -0.204362          previous_month_balance"
            ]
          },
          "metadata": {
            "tags": []
          },
          "execution_count": 29
        }
      ]
    },
    {
      "cell_type": "code",
      "metadata": {
        "colab": {
          "base_uri": "https://localhost:8080/",
          "height": 697
        },
        "id": "WkDSIfAKuip5",
        "outputId": "af9b6cff-6915-4a8c-fe23-3449f9d86897"
      },
      "source": [
        "plt.figure(figsize=(8, 6), dpi=120)\n",
        "plt.barh( coeff_plot['variable'] , coeff_plot['coefficient'] )\n",
        "plt.xlabel( \"Coefficient Magnitude\", fontsize = 15)\n",
        "plt.ylabel('Variables', fontsize = 15)\n",
        "plt.title('Coefficient plot', fontsize = 20)"
      ],
      "execution_count": 31,
      "outputs": [
        {
          "output_type": "execute_result",
          "data": {
            "text/plain": [
              "Text(0.5, 1.0, 'Coefficient plot')"
            ]
          },
          "metadata": {
            "tags": []
          },
          "execution_count": 31
        },
        {
          "output_type": "display_data",
          "data": {
            "image/png": "[encoded data removed]",
            "text/plain": [
              "<Figure size 960x720 with 1 Axes>"
            ]
          },
          "metadata": {
            "tags": [],
            "needs_background": "light"
          }
        }
      ]
    },
    {
      "cell_type": "code",
      "metadata": {
        "id": "uo_ay-pswRuT"
      },
      "source": [
        ""
      ],
      "execution_count": null,
      "outputs": []
    }
  ]
}